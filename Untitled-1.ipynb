{
 "cells": [
  {
   "cell_type": "code",
   "execution_count": 3,
   "metadata": {},
   "outputs": [
    {
     "name": "stdout",
     "output_type": "stream",
     "text": [
      "o Segundo numero e maior \n"
     ]
    }
   ],
   "source": [
    "n1=int(input(\"digite um numero :\"))\n",
    "n2=int(input('digite o segundo numero:'))\n",
    "if n1 > n2 :\n",
    "    print('o Primeiro numero e marior ')\n",
    "elif n2 > n1 :\n",
    "    print(\"o Segundo numero e maior \")\n",
    "else:\n",
    "    print(\"os dois numeros sao iguais !\")\n"
   ]
  }
 ],
 "metadata": {
  "kernelspec": {
   "display_name": "venv",
   "language": "python",
   "name": "python3"
  },
  "language_info": {
   "codemirror_mode": {
    "name": "ipython",
    "version": 3
   },
   "file_extension": ".py",
   "mimetype": "text/x-python",
   "name": "python",
   "nbconvert_exporter": "python",
   "pygments_lexer": "ipython3",
   "version": "3.11.4"
  },
  "orig_nbformat": 4
 },
 "nbformat": 4,
 "nbformat_minor": 2
}
