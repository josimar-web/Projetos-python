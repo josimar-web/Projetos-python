{
 "cells": [
  {
   "cell_type": "code",
   "execution_count": 9,
   "metadata": {},
   "outputs": [
    {
     "name": "stdout",
     "output_type": "stream",
     "text": [
      "Tirando  2.0 e  3.0 sua media e 2.5\n",
      "aluno REPROVADO\n"
     ]
    }
   ],
   "source": [
    "m1=float(input(\"Primeira nota \"))\n",
    "m2=float(input(\"Segunda nota \"))\n",
    "media=(m1+m2)/2\n",
    "print(\"Tirando  {} e  {} sua media e {}\".format(m1,m2,media))\n",
    "if 7 > media >=5 :\n",
    "    print(\"aluno RECUPERADO\")\n",
    "elif media<5 :\n",
    "    print(\"aluno REPROVADO\")\n",
    "elif media >=7 :\n",
    "    print(\"aluno APROVADO\")\n"
   ]
  }
 ],
 "metadata": {
  "kernelspec": {
   "display_name": "base",
   "language": "python",
   "name": "python3"
  },
  "language_info": {
   "codemirror_mode": {
    "name": "ipython",
    "version": 3
   },
   "file_extension": ".py",
   "mimetype": "text/x-python",
   "name": "python",
   "nbconvert_exporter": "python",
   "pygments_lexer": "ipython3",
   "version": "3.11.4"
  },
  "orig_nbformat": 4
 },
 "nbformat": 4,
 "nbformat_minor": 2
}
