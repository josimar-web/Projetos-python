{
 "cells": [
  {
   "cell_type": "code",
   "execution_count": 1,
   "metadata": {},
   "outputs": [
    {
     "name": "stdout",
     "output_type": "stream",
     "text": [
      "==============================\n",
      "       BANCO CENTRAL   \n",
      "==============================\n",
      "Total de  1 cedulas de R$50 reais \n",
      "Total de  5 cedulas de R$1 reais \n",
      "VOLTE SEMPRE BANCO CENTRAL\n"
     ]
    }
   ],
   "source": [
    "print(\"=\"*30)\n",
    "print(\"       BANCO CENTRAL   \")\n",
    "print(\"=\"*30)\n",
    "valor=int(input(\"Que valor voce que sacar R$ \"))\n",
    "total=valor \n",
    "cedula=50\n",
    "totalcéd=0\n",
    "while True :\n",
    "    if total >= cedula :\n",
    "        total -= cedula \n",
    "        totalcéd +=1 \n",
    "    else:\n",
    "        if totalcéd >0:\n",
    "            print(\"Total de  {} cedulas de R${} reais \".format(totalcéd,cedula ))\n",
    "        if cedula== 50 :\n",
    "            cedula=20\n",
    "        elif cedula == 20:\n",
    "            cedula =10\n",
    "        elif cedula== 10:\n",
    "            cedula=1\n",
    "        totalcéd =0\n",
    "        if total==0 :\n",
    "            break\n",
    "print(\"VOLTE SEMPRE BANCO CENTRAL\")\n",
    "\n",
    "\n",
    "\n"
   ]
  }
 ],
 "metadata": {
  "kernelspec": {
   "display_name": "venv",
   "language": "python",
   "name": "python3"
  },
  "language_info": {
   "codemirror_mode": {
    "name": "ipython",
    "version": 3
   },
   "file_extension": ".py",
   "mimetype": "text/x-python",
   "name": "python",
   "nbconvert_exporter": "python",
   "pygments_lexer": "ipython3",
   "version": "3.11.4"
  }
 },
 "nbformat": 4,
 "nbformat_minor": 2
}
